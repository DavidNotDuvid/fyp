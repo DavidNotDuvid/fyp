{
 "cells": [
  {
   "cell_type": "code",
   "execution_count": 1,
   "metadata": {},
   "outputs": [
    {
     "name": "stderr",
     "output_type": "stream",
     "text": [
      "Using TensorFlow backend.\n",
      "/opt/conda/lib/python3.7/site-packages/tensorflow/python/framework/dtypes.py:516: FutureWarning: Passing (type, 1) or '1type' as a synonym of type is deprecated; in a future version of numpy, it will be understood as (type, (1,)) / '(1,)type'.\n",
      "  _np_qint8 = np.dtype([(\"qint8\", np.int8, 1)])\n",
      "/opt/conda/lib/python3.7/site-packages/tensorflow/python/framework/dtypes.py:517: FutureWarning: Passing (type, 1) or '1type' as a synonym of type is deprecated; in a future version of numpy, it will be understood as (type, (1,)) / '(1,)type'.\n",
      "  _np_quint8 = np.dtype([(\"quint8\", np.uint8, 1)])\n",
      "/opt/conda/lib/python3.7/site-packages/tensorflow/python/framework/dtypes.py:518: FutureWarning: Passing (type, 1) or '1type' as a synonym of type is deprecated; in a future version of numpy, it will be understood as (type, (1,)) / '(1,)type'.\n",
      "  _np_qint16 = np.dtype([(\"qint16\", np.int16, 1)])\n",
      "/opt/conda/lib/python3.7/site-packages/tensorflow/python/framework/dtypes.py:519: FutureWarning: Passing (type, 1) or '1type' as a synonym of type is deprecated; in a future version of numpy, it will be understood as (type, (1,)) / '(1,)type'.\n",
      "  _np_quint16 = np.dtype([(\"quint16\", np.uint16, 1)])\n",
      "/opt/conda/lib/python3.7/site-packages/tensorflow/python/framework/dtypes.py:520: FutureWarning: Passing (type, 1) or '1type' as a synonym of type is deprecated; in a future version of numpy, it will be understood as (type, (1,)) / '(1,)type'.\n",
      "  _np_qint32 = np.dtype([(\"qint32\", np.int32, 1)])\n",
      "/opt/conda/lib/python3.7/site-packages/tensorflow/python/framework/dtypes.py:525: FutureWarning: Passing (type, 1) or '1type' as a synonym of type is deprecated; in a future version of numpy, it will be understood as (type, (1,)) / '(1,)type'.\n",
      "  np_resource = np.dtype([(\"resource\", np.ubyte, 1)])\n"
     ]
    },
    {
     "name": "stdout",
     "output_type": "stream",
     "text": [
      "['movie_2_nucleus_working_raw_t003_z021-1.png']\n"
     ]
    },
    {
     "name": "stderr",
     "output_type": "stream",
     "text": [
      "/opt/conda/lib/python3.7/site-packages/tensorboard/compat/tensorflow_stub/dtypes.py:541: FutureWarning: Passing (type, 1) or '1type' as a synonym of type is deprecated; in a future version of numpy, it will be understood as (type, (1,)) / '(1,)type'.\n",
      "  _np_qint8 = np.dtype([(\"qint8\", np.int8, 1)])\n",
      "/opt/conda/lib/python3.7/site-packages/tensorboard/compat/tensorflow_stub/dtypes.py:542: FutureWarning: Passing (type, 1) or '1type' as a synonym of type is deprecated; in a future version of numpy, it will be understood as (type, (1,)) / '(1,)type'.\n",
      "  _np_quint8 = np.dtype([(\"quint8\", np.uint8, 1)])\n",
      "/opt/conda/lib/python3.7/site-packages/tensorboard/compat/tensorflow_stub/dtypes.py:543: FutureWarning: Passing (type, 1) or '1type' as a synonym of type is deprecated; in a future version of numpy, it will be understood as (type, (1,)) / '(1,)type'.\n",
      "  _np_qint16 = np.dtype([(\"qint16\", np.int16, 1)])\n",
      "/opt/conda/lib/python3.7/site-packages/tensorboard/compat/tensorflow_stub/dtypes.py:544: FutureWarning: Passing (type, 1) or '1type' as a synonym of type is deprecated; in a future version of numpy, it will be understood as (type, (1,)) / '(1,)type'.\n",
      "  _np_quint16 = np.dtype([(\"quint16\", np.uint16, 1)])\n",
      "/opt/conda/lib/python3.7/site-packages/tensorboard/compat/tensorflow_stub/dtypes.py:545: FutureWarning: Passing (type, 1) or '1type' as a synonym of type is deprecated; in a future version of numpy, it will be understood as (type, (1,)) / '(1,)type'.\n",
      "  _np_qint32 = np.dtype([(\"qint32\", np.int32, 1)])\n",
      "/opt/conda/lib/python3.7/site-packages/tensorboard/compat/tensorflow_stub/dtypes.py:550: FutureWarning: Passing (type, 1) or '1type' as a synonym of type is deprecated; in a future version of numpy, it will be understood as (type, (1,)) / '(1,)type'.\n",
      "  np_resource = np.dtype([(\"resource\", np.ubyte, 1)])\n"
     ]
    }
   ],
   "source": [
    "import os\n",
    "import cv2\n",
    "import utils.metrics\n",
    "import utils.model_builder\n",
    "from config import config_vars\n",
    "# Partition of the data to make predictions (test or validation)\n",
    "partition = \"test\"\n",
    "experiment_name = '12'\n",
    "config_vars = utils.dirtools.setup_experiment(config_vars, experiment_name)\n",
    "data_partitions = utils.dirtools.read_data_partitions(config_vars)\n",
    "print(data_partitions[partition])\n",
    "\n"
   ]
  },
  {
   "cell_type": "code",
   "execution_count": 1,
   "metadata": {},
   "outputs": [
    {
     "ename": "NameError",
     "evalue": "name 'data_partitions' is not defined",
     "output_type": "error",
     "traceback": [
      "\u001b[0;31m---------------------------------------------------------------------------\u001b[0m",
      "\u001b[0;31mNameError\u001b[0m                                 Traceback (most recent call last)",
      "\u001b[0;32m<ipython-input-1-d66bdfdbd452>\u001b[0m in \u001b[0;36m<module>\u001b[0;34m\u001b[0m\n\u001b[1;32m      1\u001b[0m \u001b[0mdirectory\u001b[0m \u001b[0;34m=\u001b[0m \u001b[0;34m'movie2/hihi/'\u001b[0m\u001b[0;34m\u001b[0m\u001b[0;34m\u001b[0m\u001b[0m\n\u001b[1;32m      2\u001b[0m \u001b[0moutput\u001b[0m \u001b[0;34m=\u001b[0m \u001b[0;34m'src/norm_images/'\u001b[0m\u001b[0;34m\u001b[0m\u001b[0;34m\u001b[0m\u001b[0m\n\u001b[0;32m----> 3\u001b[0;31m \u001b[0;32mfor\u001b[0m \u001b[0mfilename\u001b[0m \u001b[0;32min\u001b[0m \u001b[0mdata_partitions\u001b[0m\u001b[0;34m[\u001b[0m\u001b[0mpartition\u001b[0m\u001b[0;34m]\u001b[0m\u001b[0;34m:\u001b[0m\u001b[0;34m\u001b[0m\u001b[0;34m\u001b[0m\u001b[0m\n\u001b[0m\u001b[1;32m      4\u001b[0m     \u001b[0;32mif\u001b[0m \u001b[0mfilename\u001b[0m\u001b[0;34m.\u001b[0m\u001b[0mendswith\u001b[0m\u001b[0;34m(\u001b[0m\u001b[0;34m\".png\"\u001b[0m\u001b[0;34m)\u001b[0m\u001b[0;34m:\u001b[0m\u001b[0;34m\u001b[0m\u001b[0;34m\u001b[0m\u001b[0m\n\u001b[1;32m      5\u001b[0m         \u001b[0mfile_name\u001b[0m \u001b[0;34m=\u001b[0m \u001b[0mos\u001b[0m\u001b[0;34m.\u001b[0m\u001b[0mpath\u001b[0m\u001b[0;34m.\u001b[0m\u001b[0mjoin\u001b[0m\u001b[0;34m(\u001b[0m\u001b[0moutput\u001b[0m\u001b[0;34m,\u001b[0m \u001b[0mfilename\u001b[0m\u001b[0;34m)\u001b[0m\u001b[0;34m\u001b[0m\u001b[0;34m\u001b[0m\u001b[0m\n",
      "\u001b[0;31mNameError\u001b[0m: name 'data_partitions' is not defined"
     ]
    }
   ],
   "source": [
    "directory = 'movie'\n",
    "output = 'src/norm_images/'\n",
    "for filename in data_partitions[partition]:\n",
    "    if filename.endswith(\".png\"):\n",
    "        file_name = os.path.join(output, filename)\n",
    "        print(file_name)\n",
    "        img = cv2.imread(file_name, cv2.IMREAD_UNCHANGED)\n",
    "        print(img.shape)\n",
    "        #gray = cv2.cvtColor(img, cv2.COLOR_BGR2GRAY)\n",
    "\n",
    "        resized = cv2.resize(img, (768, 672))\n",
    "        print(resized.shape)\n",
    "        output_name = os.path.join(output, filename)\n",
    "        cv2.imwrite(output_name, resized)   \n",
    "        print(\"done\")  \n",
    "print(\"ciao\")        "
   ]
  },
  {
   "cell_type": "code",
   "execution_count": 6,
   "metadata": {},
   "outputs": [
    {
     "name": "stdout",
     "output_type": "stream",
     "text": [
      "src/norm_images/movie_2_nucleus_working_raw_t112_z022.png\n",
      "(672, 768)\n",
      "src/norm_images/movie_2_nucleus_working_raw_t002_z020.png\n",
      "(672, 768)\n",
      "src/norm_images/movie_2_nucleus_working_raw_t005_z016.png\n",
      "(672, 768)\n",
      "src/norm_images/movie_2_nucleus_working_raw_t072_z026.png\n",
      "(672, 768)\n",
      "src/norm_images/movie_2_nucleus_working_raw_t060_z027.png\n",
      "(672, 768)\n",
      "src/norm_images/movie_2_nucleus_working_raw_t121_z014.png\n",
      "(672, 768)\n",
      "src/norm_images/movie_2_nucleus_working_raw_t157_z009.png\n",
      "(672, 768)\n",
      "src/norm_images/movie_2_nucleus_working_raw_t104_z006.png\n",
      "(672, 768)\n",
      "src/norm_images/movie_2_nucleus_working_raw_t042_z025.png\n",
      "(672, 768)\n",
      "src/norm_images/movie_2_nucleus_working_raw_t035_z020.png\n",
      "(672, 768)\n",
      "ciao\n"
     ]
    }
   ],
   "source": [
    "directory = 'src/norm_images/'\n",
    "output = 'src/norm_images/'\n",
    "for filename in os.listdir(directory):\n",
    "    if filename.endswith(\".png\"):\n",
    "        file_name = os.path.join(directory, filename)\n",
    "        print(file_name)\n",
    "        img = cv2.imread(file_name, cv2.IMREAD_UNCHANGED)\n",
    "        print(img.shape)\n",
    "        #gray = cv2.cvtColor(img, cv2.COLOR_BGR2GRAY)\n",
    "\n",
    "        resized = cv2.resize(img, (768, 672))\n",
    "        #print(resized.shape)\n",
    "        output_name = os.path.join(output, filename)\n",
    "        cv2.imwrite(output_name, resized)   \n",
    "        #print(\"done\")  \n",
    "print(\"ciao\")        "
   ]
  },
  {
   "cell_type": "code",
   "execution_count": 2,
   "metadata": {},
   "outputs": [
    {
     "ename": "FileNotFoundError",
     "evalue": "[Errno 2] No such file or directory: 'whatever.png'",
     "output_type": "error",
     "traceback": [
      "\u001b[0;31m---------------------------------------------------------------------------\u001b[0m",
      "\u001b[0;31mFileNotFoundError\u001b[0m                         Traceback (most recent call last)",
      "\u001b[0;32m<ipython-input-2-f7e23e7f1243>\u001b[0m in \u001b[0;36m<module>\u001b[0;34m\u001b[0m\n\u001b[1;32m      1\u001b[0m \u001b[0;32mfrom\u001b[0m \u001b[0mPIL\u001b[0m \u001b[0;32mimport\u001b[0m \u001b[0mImage\u001b[0m\u001b[0;34m\u001b[0m\u001b[0;34m\u001b[0m\u001b[0m\n\u001b[1;32m      2\u001b[0m \u001b[0;34m\u001b[0m\u001b[0m\n\u001b[0;32m----> 3\u001b[0;31m \u001b[0mim\u001b[0m \u001b[0;34m=\u001b[0m \u001b[0mImage\u001b[0m\u001b[0;34m.\u001b[0m\u001b[0mopen\u001b[0m\u001b[0;34m(\u001b[0m\u001b[0;34m'whatever.png'\u001b[0m\u001b[0;34m)\u001b[0m\u001b[0;34m\u001b[0m\u001b[0;34m\u001b[0m\u001b[0m\n\u001b[0m\u001b[1;32m      4\u001b[0m \u001b[0mwidth\u001b[0m\u001b[0;34m,\u001b[0m \u001b[0mheight\u001b[0m \u001b[0;34m=\u001b[0m \u001b[0mim\u001b[0m\u001b[0;34m.\u001b[0m\u001b[0msize\u001b[0m\u001b[0;34m\u001b[0m\u001b[0;34m\u001b[0m\u001b[0m\n",
      "\u001b[0;32m~usr/local/lib/python3.6/dist-packages/PIL/Image.py\u001b[0m in \u001b[0;36mopen\u001b[0;34m(fp, mode)\u001b[0m\n\u001b[1;32m   2764\u001b[0m \u001b[0;34m\u001b[0m\u001b[0m\n\u001b[1;32m   2765\u001b[0m     \u001b[0;32mif\u001b[0m \u001b[0mfilename\u001b[0m\u001b[0;34m:\u001b[0m\u001b[0;34m\u001b[0m\u001b[0;34m\u001b[0m\u001b[0m\n\u001b[0;32m-> 2766\u001b[0;31m         \u001b[0mfp\u001b[0m \u001b[0;34m=\u001b[0m \u001b[0mbuiltins\u001b[0m\u001b[0;34m.\u001b[0m\u001b[0mopen\u001b[0m\u001b[0;34m(\u001b[0m\u001b[0mfilename\u001b[0m\u001b[0;34m,\u001b[0m \u001b[0;34m\"rb\"\u001b[0m\u001b[0;34m)\u001b[0m\u001b[0;34m\u001b[0m\u001b[0;34m\u001b[0m\u001b[0m\n\u001b[0m\u001b[1;32m   2767\u001b[0m         \u001b[0mexclusive_fp\u001b[0m \u001b[0;34m=\u001b[0m \u001b[0;32mTrue\u001b[0m\u001b[0;34m\u001b[0m\u001b[0;34m\u001b[0m\u001b[0m\n\u001b[1;32m   2768\u001b[0m \u001b[0;34m\u001b[0m\u001b[0m\n",
      "\u001b[0;31mFileNotFoundError\u001b[0m: [Errno 2] No such file or directory: 'whatever.png'"
     ]
    }
   ],
   "source": [
    "from PIL import Image\n",
    "\n",
    "im = Image.open('whatever.png')\n",
    "width, height = im.size"
   ]
  },
  {
   "cell_type": "code",
   "execution_count": 41,
   "metadata": {},
   "outputs": [
    {
     "name": "stdout",
     "output_type": "stream",
     "text": [
      "[('./unet4nuclei/scaled/', ['.ipynb_checkpoints'], ['270048.png', '540027.png', '270052.png', '270040.png', '270006.png', '540039.png', '270010.png', '270042.png', '540037.png', '540004.png', '540043.png', '540008.png', '540032.png', '540050.png', '540023.png', '540002.png', '270021.png', '540046.png', '540031.png', '270047.png', '540042.png', '540017.png', '270036.png', '540044.png', '270038.png', '270030.png', '270002.png', '540019.png', '270035.png', '540024.png', '540052.png', '270033.png', '270014.png', '540001.png', '270017.png', '540021.png', '540038.png', '540014.png', '270028.png', '540020.png', '540018.png', '270020.png', '270011.png', '540005.png', '270044.png', '270025.png', '270034.png', '270013.png', '270024.png', '540028.png', '540026.png', '540036.png', '270046.png', '540009.png', '270032.png', '540007.png', '270003.png', '540022.png', '540051.png', '540012.png', '270043.png', '270031.png', '540003.png', '540035.png', '540053.png', '270041.png', '540006.png', '540049.png', '540033.png', '270053.png', '270005.png', '270000.png', '270009.png', '540015.png', '270023.png', '540010.png', '540029.png', '540041.png', '540013.png', '540000.png', '540030.png', '270050.png', '270037.png', '270029.png', '270018.png', '270039.png', '270019.png', '540016.png', '270007.png', '270022.png', '270008.png', '540047.png', '540045.png', '270016.png', '540048.png', '270012.png', '270049.png', '270004.png', '270045.png', '270051.png', '270001.png', '540011.png', '540040.png', '270027.png', '540034.png', '270026.png', '270015.png', '540025.png']), ('./unet4nuclei/scaled/.ipynb_checkpoints', [], ['270000-checkpoint.png', '270001-checkpoint.png'])]\n"
     ]
    }
   ],
   "source": [
    "import os\n",
    "files = []\n",
    "# r=root, d=directories, f = files\n",
    "for f in os.walk(output):\n",
    "    files.append(f)\n",
    "print(files)\n",
    "            \n",
    "\n"
   ]
  },
  {
   "cell_type": "code",
   "execution_count": 34,
   "metadata": {},
   "outputs": [
    {
     "name": "stdout",
     "output_type": "stream",
     "text": [
      "<_io.TextIOWrapper name='./src/validation.txt' mode='w' encoding='UTF-8'>\n",
      "270048.png\n"
     ]
    },
    {
     "ename": "TypeError",
     "evalue": "unsupported operand type(s) for >>: 'builtin_function_or_method' and '_io.TextIOWrapper'. Did you mean \"print(<message>, file=<output_stream>)\"?",
     "output_type": "error",
     "traceback": [
      "\u001b[0;31m---------------------------------------------------------------------------\u001b[0m",
      "\u001b[0;31mTypeError\u001b[0m                                 Traceback (most recent call last)",
      "\u001b[0;32m<ipython-input-34-9ec0cae0fc00>\u001b[0m in \u001b[0;36m<module>\u001b[0;34m\u001b[0m\n\u001b[1;32m      4\u001b[0m     \u001b[0;32mfor\u001b[0m \u001b[0mi\u001b[0m \u001b[0;32min\u001b[0m \u001b[0mitem\u001b[0m\u001b[0;34m:\u001b[0m\u001b[0;34m\u001b[0m\u001b[0;34m\u001b[0m\u001b[0m\n\u001b[1;32m      5\u001b[0m         \u001b[0mprint\u001b[0m\u001b[0;34m(\u001b[0m\u001b[0mi\u001b[0m\u001b[0;34m)\u001b[0m\u001b[0;34m\u001b[0m\u001b[0;34m\u001b[0m\u001b[0m\n\u001b[0;32m----> 6\u001b[0;31m         \u001b[0mprint\u001b[0m \u001b[0;34m>>\u001b[0m\u001b[0moutfile\u001b[0m\u001b[0;34m,\u001b[0m \u001b[0mi\u001b[0m\u001b[0;34m\u001b[0m\u001b[0;34m\u001b[0m\u001b[0m\n\u001b[0m\u001b[1;32m      7\u001b[0m \u001b[0moutfile\u001b[0m\u001b[0;34m.\u001b[0m\u001b[0mclose\u001b[0m\u001b[0;34m(\u001b[0m\u001b[0;34m)\u001b[0m\u001b[0;34m\u001b[0m\u001b[0;34m\u001b[0m\u001b[0m\n",
      "\u001b[0;31mTypeError\u001b[0m: unsupported operand type(s) for >>: 'builtin_function_or_method' and '_io.TextIOWrapper'. Did you mean \"print(<message>, file=<output_stream>)\"?"
     ]
    }
   ],
   "source": [
    "#Use bash exe and run\n",
    "#ls $folder > validation.txt"
   ]
  },
  {
   "cell_type": "code",
   "execution_count": 3,
   "metadata": {},
   "outputs": [
    {
     "name": "stdout",
     "output_type": "stream",
     "text": [
      "(672, 768, 3)\n",
      "done\n",
      "(672, 768, 3)\n",
      "done\n",
      "(672, 768, 3)\n",
      "done\n",
      "(672, 768, 3)\n",
      "done\n",
      "(672, 768, 3)\n",
      "done\n",
      "(672, 768, 3)\n",
      "done\n",
      "(672, 768, 3)\n",
      "done\n",
      "(672, 768, 3)\n",
      "done\n",
      "(672, 768, 3)\n",
      "done\n",
      "(672, 768, 3)\n",
      "done\n",
      "(672, 768, 3)\n",
      "done\n",
      "(672, 768, 3)\n",
      "done\n",
      "(672, 768, 3)\n",
      "done\n",
      "(672, 768, 3)\n",
      "done\n",
      "(672, 768, 3)\n",
      "done\n",
      "(672, 768, 3)\n",
      "done\n",
      "(672, 768, 3)\n",
      "done\n",
      "(672, 768, 3)\n",
      "done\n",
      "(672, 768, 3)\n",
      "done\n",
      "(672, 768, 3)\n",
      "done\n",
      "(672, 768, 3)\n",
      "done\n",
      "(672, 768, 3)\n",
      "done\n",
      "(672, 768, 3)\n",
      "done\n",
      "(672, 768, 3)\n",
      "done\n",
      "(672, 768, 3)\n",
      "done\n",
      "(672, 768, 3)\n",
      "done\n",
      "(672, 768, 3)\n",
      "done\n",
      "(672, 768, 3)\n",
      "done\n",
      "(672, 768, 3)\n",
      "done\n",
      "(672, 768, 3)\n",
      "done\n",
      "(672, 768, 3)\n",
      "done\n",
      "(672, 768, 3)\n",
      "done\n",
      "(672, 768, 3)\n",
      "done\n",
      "(672, 768, 3)\n",
      "done\n",
      "(672, 768, 3)\n",
      "done\n",
      "(672, 768, 3)\n",
      "done\n",
      "(672, 768, 3)\n",
      "done\n",
      "(672, 768, 3)\n",
      "done\n",
      "(672, 768, 3)\n",
      "done\n",
      "(672, 768, 3)\n",
      "done\n",
      "(672, 768, 3)\n",
      "done\n",
      "(672, 768, 3)\n",
      "done\n",
      "(672, 768, 3)\n",
      "done\n",
      "(672, 768, 3)\n",
      "done\n",
      "(672, 768, 3)\n",
      "done\n",
      "(672, 768, 3)\n",
      "done\n",
      "(672, 768, 3)\n",
      "done\n",
      "(672, 768, 3)\n",
      "done\n",
      "(672, 768, 3)\n",
      "done\n",
      "(672, 768, 3)\n",
      "done\n",
      "(672, 768, 3)\n",
      "done\n",
      "(672, 768, 3)\n",
      "done\n",
      "(672, 768, 3)\n",
      "done\n",
      "(672, 768, 3)\n",
      "done\n",
      "(672, 768, 3)\n",
      "done\n",
      "(672, 768, 3)\n",
      "done\n",
      "(672, 768, 3)\n",
      "done\n",
      "(672, 768, 3)\n",
      "done\n",
      "(672, 768, 3)\n",
      "done\n",
      "(672, 768, 3)\n",
      "done\n",
      "(672, 768, 3)\n",
      "done\n",
      "(672, 768, 3)\n",
      "done\n",
      "(672, 768, 3)\n",
      "done\n",
      "(672, 768, 3)\n",
      "done\n",
      "(672, 768, 3)\n",
      "done\n",
      "(672, 768, 3)\n",
      "done\n",
      "(672, 768, 3)\n",
      "done\n",
      "(672, 768, 3)\n",
      "done\n",
      "(672, 768, 3)\n",
      "done\n",
      "(672, 768, 3)\n",
      "done\n",
      "(672, 768, 3)\n",
      "done\n",
      "(672, 768, 3)\n",
      "done\n",
      "(672, 768, 3)\n",
      "done\n",
      "(672, 768, 3)\n",
      "done\n",
      "(672, 768, 3)\n",
      "done\n",
      "(672, 768, 3)\n",
      "done\n",
      "(672, 768, 3)\n",
      "done\n",
      "(672, 768, 3)\n",
      "done\n"
     ]
    }
   ],
   "source": [
    "import os\n",
    "import cv2\n",
    "directory = './unet4nuclei/src/experiments/01/out/prob/'\n",
    "output = './unet4nuclei/scaled/'\n",
    "for filename in os.listdir(directory):\n",
    "    if filename.endswith(\".png\"):\n",
    "        file_name = os.path.join(directory, filename)\n",
    "        img = cv2.imread(file_name, cv2.IMREAD_UNCHANGED)\n",
    "        print(img.shape)\n",
    "        resized = cv2.resize(img, (1304, 908))\n",
    "        output_name = os.path.join(output, filename)\n",
    "        cv2.imwrite(output_name, resized)\n",
    "        print(\"done\")"
   ]
  },
  {
   "cell_type": "code",
   "execution_count": null,
   "metadata": {},
   "outputs": [],
   "source": []
  }
 ],
 "metadata": {
  "kernelspec": {
   "display_name": "Python 3",
   "language": "python",
   "name": "python3"
  },
  "language_info": {
   "codemirror_mode": {
    "name": "ipython",
    "version": 3
   },
   "file_extension": ".py",
   "mimetype": "text/x-python",
   "name": "python",
   "nbconvert_exporter": "python",
   "pygments_lexer": "ipython3",
   "version": "3.7.4"
  }
 },
 "nbformat": 4,
 "nbformat_minor": 4
}
